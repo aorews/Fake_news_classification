{
 "cells": [
  {
   "cell_type": "code",
   "execution_count": 1,
   "id": "608d8e45",
   "metadata": {
    "execution": {
     "iopub.execute_input": "2022-04-19T19:59:25.403559Z",
     "iopub.status.busy": "2022-04-19T19:59:25.403111Z",
     "iopub.status.idle": "2022-04-19T19:59:35.433082Z",
     "shell.execute_reply": "2022-04-19T19:59:35.432100Z"
    },
    "papermill": {
     "duration": 10.049109,
     "end_time": "2022-04-19T19:59:35.435237",
     "exception": false,
     "start_time": "2022-04-19T19:59:25.386128",
     "status": "completed"
    },
    "tags": []
   },
   "outputs": [
    {
     "name": "stdout",
     "output_type": "stream",
     "text": [
      "Collecting edlib\r\n",
      "  Downloading edlib-1.3.9-cp37-cp37m-manylinux2010_x86_64.whl (305 kB)\r\n",
      "\u001b[2K     \u001b[90m━━━━━━━━━━━━━━━━━━━━━━━━━━━━━━━━━━━━━━━\u001b[0m \u001b[32m305.6/305.6 KB\u001b[0m \u001b[31m6.9 MB/s\u001b[0m eta \u001b[36m0:00:00\u001b[0m\r\n",
      "\u001b[?25hInstalling collected packages: edlib\r\n",
      "Successfully installed edlib-1.3.9\r\n",
      "\u001b[33mWARNING: Running pip as the 'root' user can result in broken permissions and conflicting behaviour with the system package manager. It is recommended to use a virtual environment instead: https://pip.pypa.io/warnings/venv\u001b[0m\u001b[33m\r\n",
      "\u001b[0m"
     ]
    }
   ],
   "source": [
    "!pip install edlib"
   ]
  },
  {
   "cell_type": "code",
   "execution_count": 2,
   "id": "5ec38e32",
   "metadata": {
    "_cell_guid": "b1076dfc-b9ad-4769-8c92-a6c4dae69d19",
    "_uuid": "8f2839f25d086af736a60e9eeb907d3b93b6e0e5",
    "execution": {
     "iopub.execute_input": "2022-04-19T19:59:35.470547Z",
     "iopub.status.busy": "2022-04-19T19:59:35.470238Z",
     "iopub.status.idle": "2022-04-19T19:59:35.507734Z",
     "shell.execute_reply": "2022-04-19T19:59:35.506971Z"
    },
    "papermill": {
     "duration": 0.057382,
     "end_time": "2022-04-19T19:59:35.510153",
     "exception": false,
     "start_time": "2022-04-19T19:59:35.452771",
     "status": "completed"
    },
    "tags": []
   },
   "outputs": [],
   "source": [
    "import numpy as np\n",
    "import pandas as pd\n",
    "import os\n",
    "import emoji\n",
    "import edlib\n",
    "from tqdm import tqdm\n",
    "from collections import Counter"
   ]
  },
  {
   "cell_type": "code",
   "execution_count": 3,
   "id": "779bd4e5",
   "metadata": {
    "execution": {
     "iopub.execute_input": "2022-04-19T19:59:35.561300Z",
     "iopub.status.busy": "2022-04-19T19:59:35.561006Z",
     "iopub.status.idle": "2022-04-19T19:59:35.806704Z",
     "shell.execute_reply": "2022-04-19T19:59:35.805815Z"
    },
    "papermill": {
     "duration": 0.273582,
     "end_time": "2022-04-19T19:59:35.808931",
     "exception": false,
     "start_time": "2022-04-19T19:59:35.535349",
     "status": "completed"
    },
    "tags": []
   },
   "outputs": [],
   "source": [
    "PATH_TO_DATA_FOLDER = \"../input/kontyp-panorama-tg\"\n",
    "data = pd.read_json(os.path.join(PATH_TO_DATA_FOLDER,'result.json'))"
   ]
  },
  {
   "cell_type": "code",
   "execution_count": 4,
   "id": "5af3f9ec",
   "metadata": {
    "execution": {
     "iopub.execute_input": "2022-04-19T19:59:35.842734Z",
     "iopub.status.busy": "2022-04-19T19:59:35.842439Z",
     "iopub.status.idle": "2022-04-19T19:59:35.852865Z",
     "shell.execute_reply": "2022-04-19T19:59:35.852257Z"
    },
    "papermill": {
     "duration": 0.02966,
     "end_time": "2022-04-19T19:59:35.854676",
     "exception": false,
     "start_time": "2022-04-19T19:59:35.825016",
     "status": "completed"
    },
    "tags": []
   },
   "outputs": [
    {
     "data": {
      "text/plain": [
       "array([{'id': 4376, 'type': 'message', 'date': '2020-07-17T11:30:04', 'from': 'ИА «Панорама»', 'from_id': 'channel1309900485', 'text': ['Юрия Шевчука вызвали на допрос из-за исполнения нелитованных песен в Германии\\n\\nТекст: Борис Гонтермахер\\nЧитать полностью: ', {'type': 'link', 'text': 'https://panorama.pub/42764-shevchuka-vyzvali-na-dopros.html'}, '']},\n",
       "       {'id': 7292, 'type': 'message', 'date': '2021-03-16T13:55:20', 'from': 'ИА «Панорама»', 'from_id': 'channel1309900485', 'photo': '(File not included. Change data exporting settings to download.)', 'width': 780, 'height': 520, 'text': [{'type': 'bold', 'text': '⚡️Песков ответил на вопрос о колебаниях цен на продукты\\n\\n'}, '«Цены могут как повышаться, так и понижаться. При этом платить необходимо больше, если цены выросли, или меньше, если они снизились», – пояснил пресс-секретарь президента']},\n",
       "       {'id': 8584, 'type': 'message', 'date': '2021-06-07T19:13:19', 'from': 'ИА «Панорама»', 'from_id': 'channel1309900485', 'photo': '(File not included. Change data exporting settings to download.)', 'width': 927, 'height': 680, 'text': [{'type': 'bold', 'text': '⚡️«У Александра III были еврейские корни»: скульптор отказался убирать шестиконечную звезду с памятника русскому самодержцу'}, '']},\n",
       "       {'id': 3041, 'type': 'message', 'date': '2020-02-11T10:15:05', 'from': 'ИА «Панорама»', 'from_id': 'channel1309900485', 'text': ['В Иркутске выделили землю под строительство «Колчак-центра»\\n\\nТекст: Виталий Манн\\nЧитать полностью: ', {'type': 'link', 'text': 'https://panorama.pub/31554-v-irkutske-vydelili.html'}, '']}],\n",
       "      dtype=object)"
      ]
     },
     "execution_count": 4,
     "metadata": {},
     "output_type": "execute_result"
    }
   ],
   "source": [
    "data['messages'].sample(4).values"
   ]
  },
  {
   "cell_type": "markdown",
   "id": "d7a0cc80",
   "metadata": {
    "papermill": {
     "duration": 0.016151,
     "end_time": "2022-04-19T19:59:35.887432",
     "exception": false,
     "start_time": "2022-04-19T19:59:35.871281",
     "status": "completed"
    },
    "tags": []
   },
   "source": [
    "Посмотрим на типы данных, которые будут находиться в поле json 'text'"
   ]
  },
  {
   "cell_type": "code",
   "execution_count": 5,
   "id": "72f9f149",
   "metadata": {
    "execution": {
     "iopub.execute_input": "2022-04-19T19:59:35.921831Z",
     "iopub.status.busy": "2022-04-19T19:59:35.921571Z",
     "iopub.status.idle": "2022-04-19T19:59:35.938348Z",
     "shell.execute_reply": "2022-04-19T19:59:35.937493Z"
    },
    "papermill": {
     "duration": 0.035984,
     "end_time": "2022-04-19T19:59:35.940018",
     "exception": false,
     "start_time": "2022-04-19T19:59:35.904034",
     "status": "completed"
    },
    "tags": []
   },
   "outputs": [],
   "source": [
    "types = list()\n",
    "\n",
    "def collect_types(data):\n",
    "    if 'text' in data:\n",
    "        types.append(type(data['text']))\n",
    "\n",
    "data['messages'].apply(lambda x: collect_types(x))\n",
    "None"
   ]
  },
  {
   "cell_type": "code",
   "execution_count": 6,
   "id": "7bb4a85a",
   "metadata": {
    "execution": {
     "iopub.execute_input": "2022-04-19T19:59:35.974663Z",
     "iopub.status.busy": "2022-04-19T19:59:35.974375Z",
     "iopub.status.idle": "2022-04-19T19:59:35.981699Z",
     "shell.execute_reply": "2022-04-19T19:59:35.980813Z"
    },
    "papermill": {
     "duration": 0.026904,
     "end_time": "2022-04-19T19:59:35.983385",
     "exception": false,
     "start_time": "2022-04-19T19:59:35.956481",
     "status": "completed"
    },
    "tags": []
   },
   "outputs": [
    {
     "data": {
      "text/plain": [
       "Counter({str: 660, list: 10981})"
      ]
     },
     "execution_count": 6,
     "metadata": {},
     "output_type": "execute_result"
    }
   ],
   "source": [
    "Counter(types)"
   ]
  },
  {
   "cell_type": "code",
   "execution_count": 7,
   "id": "de2959b5",
   "metadata": {
    "execution": {
     "iopub.execute_input": "2022-04-19T19:59:36.019480Z",
     "iopub.status.busy": "2022-04-19T19:59:36.019127Z",
     "iopub.status.idle": "2022-04-19T19:59:36.038513Z",
     "shell.execute_reply": "2022-04-19T19:59:36.037627Z"
    },
    "papermill": {
     "duration": 0.039996,
     "end_time": "2022-04-19T19:59:36.040396",
     "exception": false,
     "start_time": "2022-04-19T19:59:36.000400",
     "status": "completed"
    },
    "tags": []
   },
   "outputs": [
    {
     "data": {
      "text/plain": [
       "array([{'id': 11011, 'type': 'service', 'date': '2021-12-20T18:03:30', 'actor': 'ИА «Панорама»', 'actor_id': 'channel1309900485', 'action': 'pin_message', 'message_id': 11010, 'text': ''},\n",
       "       {'id': 4768, 'type': 'message', 'date': '2020-08-28T17:10:19', 'from': 'ИА «Панорама»', 'from_id': 'channel1309900485', 'forwarded_from': 'Элитное СМИ', 'text': 'Петербургской компании грозит полумиллионный штраф за непристойную рекламу с сосисками\\n\\nВ самом центре Петербурга находится ресторан «Щелкунчик», который для наружной рекламы выбрал слишком очевидную аналогию, сравнив сосиску с мужским половым органом. Креатив оценили не все. Например, Федеральной антимонопольной службе он пришёлся не по вкусу.\\n\\nВ действиях рекламодателя ООО «Династия» нашли нарушение закона о рекламе. За это компанию ждет штраф в размере от 100 тысяч до полумиллиона рублей. В ведомстве посчитали такую рекламу недостойной культурной столицы и впредь пообещали пресекать подобные попытки.\\n\\nЖителям Петербурга больше всего не понравился баннер с текстом «Утром стоит? Стоит заглянуть к нам на завтрак...». На нём были изображены сосиски и яйца.'},\n",
       "       {'id': 9697, 'type': 'service', 'date': '2021-08-27T21:03:31', 'actor': 'ИА «Панорама»', 'actor_id': 'channel1309900485', 'action': 'pin_message', 'message_id': 9682, 'text': ''},\n",
       "       {'id': 6044, 'type': 'message', 'date': '2020-12-19T09:37:20', 'from': 'ИА «Панорама»', 'from_id': 'channel1309900485', 'forwarded_from': 'Советская Белоруссия', 'photo': '(File not included. Change data exporting settings to download.)', 'width': 1021, 'height': 941, 'text': ''}],\n",
       "      dtype=object)"
      ]
     },
     "execution_count": 7,
     "metadata": {},
     "output_type": "execute_result"
    }
   ],
   "source": [
    "data['messages'].apply(lambda x: x if isinstance(x.get('text'), str) else None).dropna().sample(4).values"
   ]
  },
  {
   "cell_type": "code",
   "execution_count": 8,
   "id": "115cb78e",
   "metadata": {
    "execution": {
     "iopub.execute_input": "2022-04-19T19:59:36.076857Z",
     "iopub.status.busy": "2022-04-19T19:59:36.076615Z",
     "iopub.status.idle": "2022-04-19T19:59:36.092551Z",
     "shell.execute_reply": "2022-04-19T19:59:36.091625Z"
    },
    "papermill": {
     "duration": 0.036445,
     "end_time": "2022-04-19T19:59:36.094145",
     "exception": false,
     "start_time": "2022-04-19T19:59:36.057700",
     "status": "completed"
    },
    "tags": []
   },
   "outputs": [
    {
     "data": {
      "text/plain": [
       "array([{'id': 5015, 'type': 'message', 'date': '2020-09-19T10:00:04', 'from': 'ИА «Панорама»', 'from_id': 'channel1309900485', 'text': ['Джо Байден пожаловался на некачественный китайский чип в голове\\n\\nТекст: Бронислав Рубенштейн\\nЧитать полностью: ', {'type': 'link', 'text': 'https://panorama.pub/47947-dzho-bajden-pozhalovalsya.html'}, '']},\n",
       "       {'id': 11636, 'type': 'message', 'date': '2022-02-14T13:14:03', 'edited': '2022-02-14T13:14:55', 'from': 'ИА «Панорама»', 'from_id': 'channel1309900485', 'text': ['«Газпром» объявил о плановой остановке на ремонт газопроводов, ведущих в Европу\\n\\nТекст: Виталий Манн\\nПродолжение: ', {'type': 'link', 'text': 'https://panorama.wtf/14768'}, '']},\n",
       "       {'id': 9362, 'type': 'message', 'date': '2021-08-03T14:29:01', 'from': 'ИА «Панорама»', 'from_id': 'channel1309900485', 'photo': '(File not included. Change data exporting settings to download.)', 'width': 959, 'height': 527, 'text': [{'type': 'bold', 'text': '⚡️Вместо препарата «Спутник V» Россия отправит в Мексику партию с сертификатами о вакцинации'}, '']},\n",
       "       {'id': 6308, 'type': 'message', 'date': '2021-01-07T21:46:07', 'from': 'ИА «Панорама»', 'from_id': 'channel1309900485', 'photo': '(File not included. Change data exporting settings to download.)', 'width': 748, 'height': 377, 'text': [{'type': 'hashtag', 'text': '#Прямая_речь'}, '']}],\n",
       "      dtype=object)"
      ]
     },
     "execution_count": 8,
     "metadata": {},
     "output_type": "execute_result"
    }
   ],
   "source": [
    "data['messages'].apply(lambda x: x if isinstance(x.get('text'), list) else None).dropna().sample(4).values"
   ]
  },
  {
   "cell_type": "markdown",
   "id": "9ca7ae40",
   "metadata": {
    "papermill": {
     "duration": 0.01689,
     "end_time": "2022-04-19T19:59:36.128276",
     "exception": false,
     "start_time": "2022-04-19T19:59:36.111386",
     "status": "completed"
    },
    "tags": []
   },
   "source": [
    "В поле 'text' находится тип list, если в телеграм посте находится гиперссылка или хештег, и str, если ее нет. Если в данных str, то используем часть текста до первого переноса строки. Если в данных dict, то появляется несколько случаев из-за того, что оформление постов менялось со временем. Для каждой строки дополнительно проведем отчистку от емоджи."
   ]
  },
  {
   "cell_type": "code",
   "execution_count": 9,
   "id": "b04b8d2c",
   "metadata": {
    "execution": {
     "iopub.execute_input": "2022-04-19T19:59:36.165683Z",
     "iopub.status.busy": "2022-04-19T19:59:36.164646Z",
     "iopub.status.idle": "2022-04-19T19:59:36.925486Z",
     "shell.execute_reply": "2022-04-19T19:59:36.924572Z"
    },
    "papermill": {
     "duration": 0.782006,
     "end_time": "2022-04-19T19:59:36.927765",
     "exception": false,
     "start_time": "2022-04-19T19:59:36.145759",
     "status": "completed"
    },
    "tags": []
   },
   "outputs": [],
   "source": [
    "LEN_THRESHOLD = 10\n",
    "MIN_WORDS_THRESHOLD = 4\n",
    "MAX_WORDS_THRESHOLD = 30\n",
    "messages = list()\n",
    "\n",
    "def sanitize(text):\n",
    "    if text:\n",
    "        text = text.splitlines()[0]\n",
    "        text = emoji.replace_emoji(text, replace = \"\").strip()\n",
    "    \n",
    "    return text if len(text) > LEN_THRESHOLD and \\\n",
    "            MIN_WORDS_THRESHOLD < len(text.split()) < MAX_WORDS_THRESHOLD \\\n",
    "            else None\n",
    "\n",
    "def get_text(text):\n",
    "    if isinstance(text, list):\n",
    "        text = text[0]\n",
    "        if isinstance(text, dict):\n",
    "            text = text['text']\n",
    "    return text\n",
    "\n",
    "def collect_messages(message):\n",
    "    if 'text' in message:\n",
    "        text = get_text(message['text'])\n",
    "        text = sanitize(text)\n",
    "        if text:\n",
    "            messages.append(text)\n",
    "\n",
    "data['messages'].apply(lambda x: collect_messages(x))\n",
    "\n",
    "assert all([isinstance(text, str) for text in messages])"
   ]
  },
  {
   "cell_type": "code",
   "execution_count": 10,
   "id": "f9012dfd",
   "metadata": {
    "execution": {
     "iopub.execute_input": "2022-04-19T19:59:36.964433Z",
     "iopub.status.busy": "2022-04-19T19:59:36.964102Z",
     "iopub.status.idle": "2022-04-19T19:59:37.339496Z",
     "shell.execute_reply": "2022-04-19T19:59:37.338475Z"
    },
    "papermill": {
     "duration": 0.39634,
     "end_time": "2022-04-19T19:59:37.341775",
     "exception": false,
     "start_time": "2022-04-19T19:59:36.945435",
     "status": "completed"
    },
    "tags": []
   },
   "outputs": [
    {
     "data": {
      "text/plain": [
       "array([[<AxesSubplot:title={'center':'0'}>]], dtype=object)"
      ]
     },
     "execution_count": 10,
     "metadata": {},
     "output_type": "execute_result"
    },
    {
     "data": {
      "image/png": "[encoded data removed]",
      "text/plain": [
       "<Figure size 432x288 with 1 Axes>"
      ]
     },
     "metadata": {
      "needs_background": "light"
     },
     "output_type": "display_data"
    }
   ],
   "source": [
    "pd.DataFrame([len(x.split()) for x in messages]).hist(bins = 100)"
   ]
  },
  {
   "cell_type": "markdown",
   "id": "8ff812b1",
   "metadata": {
    "papermill": {
     "duration": 0.028042,
     "end_time": "2022-04-19T19:59:37.401126",
     "exception": false,
     "start_time": "2022-04-19T19:59:37.373084",
     "status": "completed"
    },
    "tags": []
   },
   "source": [
    "В условии написано, что нельзя размечать тестовые данные, поэтому проверим присутствие уже существующих заголовков на их наличие в исходном датасете. Также проверим их наличие в тесте, чтоб не было задвоений"
   ]
  },
  {
   "cell_type": "code",
   "execution_count": 11,
   "id": "2ff8a700",
   "metadata": {
    "execution": {
     "iopub.execute_input": "2022-04-19T19:59:37.459533Z",
     "iopub.status.busy": "2022-04-19T19:59:37.459035Z",
     "iopub.status.idle": "2022-04-19T19:59:37.528208Z",
     "shell.execute_reply": "2022-04-19T19:59:37.527404Z"
    },
    "papermill": {
     "duration": 0.101917,
     "end_time": "2022-04-19T19:59:37.531366",
     "exception": false,
     "start_time": "2022-04-19T19:59:37.429449",
     "status": "completed"
    },
    "tags": []
   },
   "outputs": [],
   "source": [
    "PATH_TO_TASK_FOLDER = \"../input/fake-news-task\"\n",
    "train = pd.read_csv(os.path.join(PATH_TO_TASK_FOLDER,'train.tsv'), sep = '\\t')\n",
    "test = pd.read_csv(os.path.join(PATH_TO_TASK_FOLDER,'test.tsv'), sep = '\\t')"
   ]
  },
  {
   "cell_type": "code",
   "execution_count": 12,
   "id": "5a34019e",
   "metadata": {
    "execution": {
     "iopub.execute_input": "2022-04-19T19:59:37.591118Z",
     "iopub.status.busy": "2022-04-19T19:59:37.590262Z",
     "iopub.status.idle": "2022-04-19T19:59:37.608285Z",
     "shell.execute_reply": "2022-04-19T19:59:37.607251Z"
    },
    "papermill": {
     "duration": 0.049602,
     "end_time": "2022-04-19T19:59:37.610458",
     "exception": false,
     "start_time": "2022-04-19T19:59:37.560856",
     "status": "completed"
    },
    "tags": []
   },
   "outputs": [
    {
     "data": {
      "text/plain": [
       "array(['Москвичу Владимиру Клутину пришёл счёт за вмешательство в американские выборы',\n",
       "       'Агент Кокорина назвал езду по встречке житейской историей',\n",
       "       'Госдума рассмотрит возможность введения секретных статей Уголовного кодекса',\n",
       "       ...,\n",
       "       'СК возбудил дело против авиакомпании «Победа» за финансирование Навального',\n",
       "       'Криптомонетный двор Туркменистана выпустил юбилейные биткоины',\n",
       "       'Deutsche Bahn заплатит рекордный штраф за чтение писем сотрудников'],\n",
       "      dtype=object)"
      ]
     },
     "execution_count": 12,
     "metadata": {},
     "output_type": "execute_result"
    }
   ],
   "source": [
    "data = train.append(test, ignore_index = True)['title'].values\n",
    "data"
   ]
  },
  {
   "cell_type": "markdown",
   "id": "caf8010c",
   "metadata": {},
   "source": [
    "Взял максимальную близость в 10 измененных символов и прошел за O(k*n), где k - собранные данные, n - уже имеющиеся. Вероятно, можно было бы ускорить выполнение подсчитав для каждого из предложений нормированный ембеддинг и перемоножив матрицу с новыми заголовками в строках на матрицу с эмбеддингами исходных заголовков в столбцах. Затем для каждой строки полученной матрицы взять максимальное значение и оставить только строки, не превосходящие пороговое значение."
   ]
  },
  {
   "cell_type": "code",
   "execution_count": 13,
   "id": "dd47eb41",
   "metadata": {
    "execution": {
     "iopub.execute_input": "2022-04-19T19:59:37.678291Z",
     "iopub.status.busy": "2022-04-19T19:59:37.677799Z",
     "iopub.status.idle": "2022-04-19T20:57:45.265853Z",
     "shell.execute_reply": "2022-04-19T20:57:45.264796Z"
    },
    "papermill": {
     "duration": 3487.625289,
     "end_time": "2022-04-19T20:57:45.267823",
     "exception": false,
     "start_time": "2022-04-19T19:59:37.642534",
     "status": "completed"
    },
    "tags": []
   },
   "outputs": [
    {
     "name": "stderr",
     "output_type": "stream",
     "text": [
      "100%|██████████| 11226/11226 [58:07<00:00,  3.22it/s]\n"
     ]
    }
   ],
   "source": [
    "DISTANCE_THRESHOLD = 10\n",
    "\n",
    "def calculate_distance(word1, word2, distance_threshold = DISTANCE_THRESHOLD):\n",
    "    return edlib.align(word1, word2, k = distance_threshold)['editDistance']\n",
    "\n",
    "def get_unique_parsed_text(parsed_data, task_data, distance_threshold = DISTANCE_THRESHOLD):\n",
    "    result = list()\n",
    "    task_data = [x.lower().strip() for x in task_data]\n",
    "    for i, parsed_text in tqdm(enumerate(map(lambda x: x.lower().strip(), parsed_data)), total = len(parsed_data)):\n",
    "        seen = False\n",
    "        for task_text in task_data:\n",
    "            if 0 <= calculate_distance(parsed_text, task_text, distance_threshold) < distance_threshold:\n",
    "                seen = True\n",
    "                break\n",
    "        if not seen:\n",
    "            result.append(parsed_data[i])\n",
    "    return result\n",
    "\n",
    "parsed_long = get_unique_parsed_text(messages, data)"
   ]
  },
  {
   "cell_type": "code",
   "execution_count": 14,
   "id": "a8449711",
   "metadata": {
    "execution": {
     "iopub.execute_input": "2022-04-19T20:57:53.890213Z",
     "iopub.status.busy": "2022-04-19T20:57:53.889916Z",
     "iopub.status.idle": "2022-04-19T20:57:53.905662Z",
     "shell.execute_reply": "2022-04-19T20:57:53.905035Z"
    },
    "papermill": {
     "duration": 5.220383,
     "end_time": "2022-04-19T20:57:53.907873",
     "exception": false,
     "start_time": "2022-04-19T20:57:48.687490",
     "status": "completed"
    },
    "tags": []
   },
   "outputs": [],
   "source": [
    "np.save('parsed_full', parsed_long)"
   ]
  }
 ],
 "metadata": {
  "kernelspec": {
   "display_name": "Python 3",
   "language": "python",
   "name": "python3"
  },
  "language_info": {
   "codemirror_mode": {
    "name": "ipython",
    "version": 3
   },
   "file_extension": ".py",
   "mimetype": "text/x-python",
   "name": "python",
   "nbconvert_exporter": "python",
   "pygments_lexer": "ipython3",
   "version": "3.7.12"
  },
  "papermill": {
   "default_parameters": {},
   "duration": 3522.92717,
   "end_time": "2022-04-19T20:58:00.063316",
   "environment_variables": {},
   "exception": null,
   "input_path": "__notebook__.ipynb",
   "output_path": "__notebook__.ipynb",
   "parameters": {},
   "start_time": "2022-04-19T19:59:17.136146",
   "version": "2.3.4"
  }
 },
 "nbformat": 4,
 "nbformat_minor": 5
}
